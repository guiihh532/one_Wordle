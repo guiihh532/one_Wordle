{
 "cells": [
  {
   "cell_type": "code",
   "execution_count": 1,
   "id": "025281cd-3306-47b9-9d9b-cbccf605ce27",
   "metadata": {},
   "outputs": [],
   "source": [
    "#so hello everyone and welcome to another video, today i am goinng to show you some magic with wordle data\n",
    "#please if you want to see the source code check the link in description\n",
    "#also follow me on medium, i have posted the source code there and an written explanation for every line let's start now\n",
    "#portuguese\n",
    "\n",
    "#então, olá a todos e sejam bem-vindos a mais um vídeo, hoje vou mostrar um pouco de magia com dados wordle\n",
    "#por favor, se você quiser ver o código fonte, verifique o link na descrição\n",
    "#também me siga no meio, postei o código fonte lá e uma explicação escrita para cada linha, vamos começar agora"
   ]
  },
  {
   "cell_type": "code",
   "execution_count": null,
   "id": "9674fe24-e48c-4355-ad5c-d8a73d5bd5c9",
   "metadata": {},
   "outputs": [],
   "source": [
    "import pandas as pd\n",
    "import numpy as np\n",
    "import matplotlib.pylab as plt\n",
    "import seaborn as sns\n",
    "pd.set_option('max_columns', 500)\n",
    "import re\n",
    "\n",
    "\n",
    "from itertools import cycle\n",
    "plt.style.use(\"ggplot\")\n",
    "color_pal = plt.rcParams[\"axes.prop_cycle\"].by_key()[\"color\"]\n",
    "color_cycle = cycle(plt.rcParams[\"axes.prop_cycle\"].by_key()[\"color\"])"
   ]
  },
  {
   "cell_type": "code",
   "execution_count": null,
   "id": "c69f6c81-5924-482d-9036-b6d784222534",
   "metadata": {},
   "outputs": [],
   "source": [
    "tweets = pd.read_cvs('./data/tweets.csv')\n",
    "tweets['tweet_date'] = pd.to_datetime(tweets['tweet_date'])\n",
    "tweets['tweet_date_'] = tweets['tweet_date'].dt.date\n",
    "tweets['wordle_id'] = tweets['tweet_text'].str[:10]\n",
    "tweets['n_attempts'] = tweets['tweet_text'].str[11].astrype('int')\n",
    "tweets['id'] = tweets['tweet_text'].str[7:10].astrype('int')"
   ]
  },
  {
   "cell_type": "code",
   "execution_count": 2,
   "id": "a58ca9be-0fed-402a-925e-f02a0a987b85",
   "metadata": {},
   "outputs": [
    {
     "ename": "SyntaxError",
     "evalue": "invalid syntax (329701628.py, line 1)",
     "output_type": "error",
     "traceback": [
      "\u001b[1;36m  Cell \u001b[1;32mIn[2], line 1\u001b[1;36m\u001b[0m\n\u001b[1;33m    tweets['tweet_date_'].value_counts() /\u001b[0m\n\u001b[1;37m                                          ^\u001b[0m\n\u001b[1;31mSyntaxError\u001b[0m\u001b[1;31m:\u001b[0m invalid syntax\n"
     ]
    }
   ],
   "source": [
    "tweets['tweet_date_'].value_counts() /\n",
    "    .plot(figsize = (12,5),\n",
    "        title= \"Wordle Tweets By Day\",\n",
    "        color = color_pal[2], lw = 5)"
   ]
  },
  {
   "cell_type": "code",
   "execution_count": 4,
   "id": "62845f77",
   "metadata": {},
   "outputs": [
    {
     "ename": "SyntaxError",
     "evalue": "invalid syntax (1355436726.py, line 2)",
     "output_type": "error",
     "traceback": [
      "\u001b[1;36m  Cell \u001b[1;32mIn[4], line 2\u001b[1;36m\u001b[0m\n\u001b[1;33m    .style.background_gradient(axis = 1))\u001b[0m\n\u001b[1;37m    ^\u001b[0m\n\u001b[1;31mSyntaxError\u001b[0m\u001b[1;31m:\u001b[0m invalid syntax\n"
     ]
    }
   ],
   "source": [
    "tweets.groupby('wordle_id'['n_attempts'].value_counts().unstack()/\n",
    "               .style.background_gradient(axis = 1))"
   ]
  },
  {
   "cell_type": "code",
   "execution_count": null,
   "id": "4d00a3bc",
   "metadata": {},
   "outputs": [],
   "source": [
    "tweets['answer'] = tweets['wordle_id'].map(map_dict)\n",
    "tweets.groupby('answer')['n_attempts'].value_counts().unstack().style /\n",
    "        .background_gradient(axis = 1)\n",
    "\n",
    "tweets['n_attempts'].value_counts() /\n",
    "    .sort_index().plot(kind = 'barh',\n",
    "                       title = 'Number of Attempts',\n",
    "                       edgecolor = 'black')\n",
    "\n",
    "tweets['day'] = \n"
   ]
  }
 ],
 "metadata": {
  "kernelspec": {
   "display_name": "Python 3 (ipykernel)",
   "language": "python",
   "name": "python3"
  },
  "language_info": {
   "codemirror_mode": {
    "name": "ipython",
    "version": 3
   },
   "file_extension": ".py",
   "mimetype": "text/x-python",
   "name": "python",
   "nbconvert_exporter": "python",
   "pygments_lexer": "ipython3",
   "version": "3.12.7"
  }
 },
 "nbformat": 4,
 "nbformat_minor": 5
}
